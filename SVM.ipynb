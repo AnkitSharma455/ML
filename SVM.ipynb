{
 "cells": [
  {
   "cell_type": "code",
   "execution_count": null,
   "metadata": {},
   "outputs": [],
   "source": [
    "import numpy as np\n",
    "import pandas as pd\n",
    "import matplotlib.pyplot as plt\n",
    "import seaborn as sns\n",
    "import plotly as py\n",
    "import plotly.graph_objs as go"
   ]
  },
  {
   "cell_type": "code",
   "execution_count": null,
   "metadata": {},
   "outputs": [],
   "source": [
    "data = pd.read_csv('BankNoteAuthentication.csv')"
   ]
  },
  {
   "cell_type": "code",
   "execution_count": null,
   "metadata": {},
   "outputs": [],
   "source": [
    "data.head()"
   ]
  },
  {
   "cell_type": "code",
   "execution_count": null,
   "metadata": {},
   "outputs": [],
   "source": [
    "data.describe()"
   ]
  },
  {
   "cell_type": "code",
   "execution_count": null,
   "metadata": {},
   "outputs": [],
   "source": [
    "data.info()"
   ]
  },
  {
   "cell_type": "code",
   "execution_count": null,
   "metadata": {},
   "outputs": [],
   "source": [
    "data.corr(method='spearman').style.background_gradient(cmap='coolwarm')"
   ]
  },
  {
   "cell_type": "code",
   "execution_count": null,
   "metadata": {},
   "outputs": [],
   "source": [
    "plt.rcParams['figure.figsize'] = (18, 7)\n",
    "sns.countplot(x='class',data = data)\n",
    "plt.title('Count of Class',fontsize = 20)\n",
    "plt.xlabel('Class', fontsize = 15)\n",
    "plt.ylabel('Count', fontsize = 15)\n",
    "plt.show()"
   ]
  },
  {
   "cell_type": "code",
   "execution_count": null,
   "metadata": {},
   "outputs": [],
   "source": [
    "plt.rcParams['figure.figsize'] = (18, 7)\n",
    "\n",
    "plt.subplot(1, 2, 1)\n",
    "plt.hist(data['variance'], color = 'lightgreen')\n",
    "plt.title('Distribution of variance',fontsize = 20)\n",
    "plt.xlabel('Variance', fontsize = 15)\n",
    "plt.ylabel('Count', fontsize = 15)\n",
    "\n",
    "# visualizing the distribution of customers around the Region\n",
    "\n",
    "plt.subplot(1, 2, 2)\n",
    "plt.hist(data['skewness'], color = 'lightblue')\n",
    "plt.title('Distribution of skewness',fontsize = 20)\n",
    "plt.xlabel('Skewness', fontsize = 15)\n",
    "plt.ylabel('Count', fontsize = 15)\n",
    "\n",
    "plt.show()"
   ]
  },
  {
   "cell_type": "code",
   "execution_count": null,
   "metadata": {},
   "outputs": [],
   "source": [
    "plt.rcParams['figure.figsize'] = (18, 7)\n",
    "\n",
    "plt.subplot(1, 2, 1)\n",
    "plt.hist(data['curtosis'], color = 'lightgreen')\n",
    "plt.title('Distribution of curtosis',fontsize = 20)\n",
    "plt.xlabel('Curtosis', fontsize = 15)\n",
    "plt.ylabel('Count', fontsize = 15)\n",
    "\n",
    "# visualizing the distribution of customers around the Region\n",
    "\n",
    "plt.subplot(1, 2, 2)\n",
    "plt.hist(data['entropy'], color = 'lightblue')\n",
    "plt.title('Distribution of entropy',fontsize = 20)\n",
    "plt.xlabel('Entropy', fontsize = 15)\n",
    "plt.ylabel('Count', fontsize = 15)\n",
    "\n",
    "plt.show()"
   ]
  },
  {
   "cell_type": "code",
   "execution_count": null,
   "metadata": {},
   "outputs": [],
   "source": [
    "plt.rcParams['figure.figsize'] = (18, 15)\n",
    "\n",
    "plt.subplot(2, 2, 1)\n",
    "sns.boxenplot(data['class'], data['variance'], palette = 'rainbow')\n",
    "plt.title('Variance vs Class', fontsize = 20)\n",
    "plt.ylabel('Variance', fontsize = 15)\n",
    "plt.xlabel('Class', fontsize = 15)\n",
    "\n",
    "# product related duration vs revenue\n",
    "\n",
    "plt.subplot(2, 2, 2)\n",
    "sns.boxenplot(data['class'], data['skewness'], palette = 'pastel')\n",
    "plt.title('Skewness vs Class', fontsize = 20)\n",
    "plt.ylabel('Skewness', fontsize = 15)\n",
    "plt.xlabel('Class', fontsize = 15)\n",
    "\n",
    "# product related duration vs revenue\n",
    "\n",
    "plt.subplot(2, 2, 3)\n",
    "sns.boxenplot(data['class'], data['curtosis'], palette = 'dark')\n",
    "plt.title('Curtosis vs Class', fontsize = 20)\n",
    "plt.ylabel('Curtosis', fontsize = 15)\n",
    "plt.xlabel('Class', fontsize = 15)\n",
    "\n",
    "# exit rate vs revenue\n",
    "\n",
    "plt.subplot(2, 2, 4)\n",
    "sns.boxenplot(data['class'], data['entropy'], palette = 'spring')\n",
    "plt.title('Entropy vs Class', fontsize = 20)\n",
    "plt.ylabel('Entropy', fontsize = 15)\n",
    "plt.xlabel('Class', fontsize = 15)\n",
    "\n",
    "\n",
    "plt.show()\n"
   ]
  },
  {
   "cell_type": "code",
   "execution_count": null,
   "metadata": {},
   "outputs": [],
   "source": [
    "plt.rcParams['figure.figsize'] = (18, 7)\n",
    "\n",
    "plt.subplot(1, 2, 1)\n",
    "sns.stripplot(data['class'], data['variance'], palette = 'autumn')\n",
    "plt.title('Variance vs Class', fontsize = 20)\n",
    "plt.ylabel('Variance', fontsize = 15)\n",
    "plt.xlabel('Class', fontsize = 15)\n",
    "\n",
    "# bounce rates vs revenue\n",
    "plt.subplot(1, 2, 2)\n",
    "sns.stripplot(data['class'], data['skewness'], palette = 'magma')\n",
    "plt.title('Skewness vs Class', fontsize = 20)\n",
    "plt.ylabel('Skewness', fontsize = 15)\n",
    "plt.xlabel('Class', fontsize = 15)\n",
    "\n",
    "plt.show()"
   ]
  },
  {
   "cell_type": "code",
   "execution_count": null,
   "metadata": {},
   "outputs": [],
   "source": [
    "plt.rcParams['figure.figsize'] = (18, 7)\n",
    "\n",
    "plt.subplot(1, 2, 1)\n",
    "sns.stripplot(data['class'], data['curtosis'], palette = 'rainbow')\n",
    "plt.title('Curtosis vs Class', fontsize = 20)\n",
    "plt.ylabel('Curtosis', fontsize = 15)\n",
    "plt.xlabel('Class', fontsize = 15)\n",
    "\n",
    "# bounce rates vs revenue\n",
    "plt.subplot(1, 2, 2)\n",
    "sns.stripplot(data['class'], data['entropy'], palette = 'spring')\n",
    "plt.title('Entropy vs Class', fontsize = 20)\n",
    "plt.ylabel('Entropy', fontsize = 15)\n",
    "plt.xlabel('Class', fontsize = 15)\n",
    "\n",
    "plt.show()"
   ]
  },
  {
   "cell_type": "code",
   "execution_count": null,
   "metadata": {},
   "outputs": [],
   "source": [
    "sns.pairplot(data,hue='class')"
   ]
  },
  {
   "cell_type": "code",
   "execution_count": null,
   "metadata": {},
   "outputs": [],
   "source": [
    "x = data.iloc[:,:4]"
   ]
  },
  {
   "cell_type": "code",
   "execution_count": null,
   "metadata": {},
   "outputs": [],
   "source": [
    "y = data.iloc[:,4]"
   ]
  },
  {
   "cell_type": "code",
   "execution_count": null,
   "metadata": {},
   "outputs": [],
   "source": [
    "from sklearn.model_selection import train_test_split\n",
    "from sklearn.svm import SVC\n",
    "from sklearn.metrics import accuracy_score,f1_score,confusion_matrix"
   ]
  },
  {
   "cell_type": "code",
   "execution_count": null,
   "metadata": {},
   "outputs": [],
   "source": [
    "xtrain,xtest,ytrain,ytest = train_test_split(x,y,test_size=0.2,random_state = 42)"
   ]
  },
  {
   "cell_type": "code",
   "execution_count": null,
   "metadata": {},
   "outputs": [],
   "source": [
    "xtrain.shape"
   ]
  },
  {
   "cell_type": "code",
   "execution_count": null,
   "metadata": {},
   "outputs": [],
   "source": [
    "ytrain.shape"
   ]
  },
  {
   "cell_type": "code",
   "execution_count": null,
   "metadata": {},
   "outputs": [],
   "source": [
    "SVM = SVC(kernel ='linear',C = 10)\n",
    "SVM.fit(xtrain,ytrain)\n",
    "print('score of SVC in training data with linear kernel is',SVM.score(xtrain,ytrain))\n",
    "print('Accuracy of SVM is : ',accuracy_score(ytest,SVM.predict(xtest)))\n",
    "print('F1_score of SVM is : ',f1_score(ytest,SVM.predict(xtest)))\n",
    "print('confusion matrix is :\\n',confusion_matrix(ytest,SVM.predict(xtest)))"
   ]
  },
  {
   "cell_type": "code",
   "execution_count": null,
   "metadata": {},
   "outputs": [],
   "source": [
    "polySVC = SVC(kernel='poly',degree = 2,C=100)\n",
    "polySVC.fit(xtrain,ytrain)\n",
    "print('score of SVC in training data with poly kernel is',polySVC.score(xtrain,ytrain))\n",
    "print('Accuracy of poly SVC is : ',accuracy_score(ytest,polySVC.predict(xtest)))\n",
    "print('F1_score of poly SVC is : ',f1_score(ytest,polySVC.predict(xtest)))\n",
    "print('confusion matrix of poly SVC is :\\n',confusion_matrix(ytest,polySVC.predict(xtest)))"
   ]
  },
  {
   "cell_type": "code",
   "execution_count": null,
   "metadata": {},
   "outputs": [],
   "source": [
    "rbfSVC = SVC(kernel='rbf',gamma = 'auto',C=100)\n",
    "rbfSVC.fit(xtrain,ytrain)\n",
    "print('score of SVC in training data with rbf kernel is',rbfSVC.score(xtrain,ytrain))\n",
    "print('Accuracy of rbf SVC is : ',accuracy_score(ytest,rbfSVC.predict(xtest)))\n",
    "print('F1_score of rbf SVC is : ',f1_score(ytest,rbfSVC.predict(xtest)))\n",
    "print('confusion matrix of rbf SVC is :\\n',confusion_matrix(ytest,rbfSVC.predict(xtest)))"
   ]
  }
 ],
 "metadata": {
  "kernelspec": {
   "display_name": "Python 3",
   "language": "python",
   "name": "python3"
  },
  "language_info": {
   "codemirror_mode": {
    "name": "ipython",
    "version": 3
   },
   "file_extension": ".py",
   "mimetype": "text/x-python",
   "name": "python",
   "nbconvert_exporter": "python",
   "pygments_lexer": "ipython3",
   "version": "3.7.6"
  }
 },
 "nbformat": 4,
 "nbformat_minor": 4
}
