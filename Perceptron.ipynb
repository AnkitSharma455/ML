{
 "cells": [
  {
   "cell_type": "code",
   "execution_count": null,
   "metadata": {},
   "outputs": [],
   "source": [
    "import pandas as pd\n",
    "import numpy as np\n",
    "from sklearn.metrics import accuracy_score\n",
    "from sklearn.model_selection import train_test_split\n",
    "import plotly as py\n",
    "import plotly.graph_objs as go\n",
    "import matplotlib.pyplot as plt\n",
    "import seaborn as sns"
   ]
  },
  {
   "cell_type": "code",
   "execution_count": null,
   "metadata": {},
   "outputs": [],
   "source": [
    "data = pd.read_csv('BankNoteAuthentication.csv')"
   ]
  },
  {
   "cell_type": "code",
   "execution_count": null,
   "metadata": {},
   "outputs": [],
   "source": [
    "data.head()"
   ]
  },
  {
   "cell_type": "code",
   "execution_count": null,
   "metadata": {},
   "outputs": [],
   "source": [
    "data.describe()"
   ]
  },
  {
   "cell_type": "code",
   "execution_count": null,
   "metadata": {},
   "outputs": [],
   "source": [
    "data.info()"
   ]
  },
  {
   "cell_type": "code",
   "execution_count": null,
   "metadata": {},
   "outputs": [],
   "source": [
    "data.corr(method='spearman').style.background_gradient(cmap='coolwarm')"
   ]
  },
  {
   "cell_type": "code",
   "execution_count": null,
   "metadata": {},
   "outputs": [],
   "source": [
    "plt.rcParams['figure.figsize'] = (18, 7)\n",
    "sns.countplot(x='class',data = data)\n",
    "plt.title('Count of Class',fontsize = 20)\n",
    "plt.xlabel('Class', fontsize = 15)\n",
    "plt.ylabel('Count', fontsize = 15)\n",
    "plt.show()"
   ]
  },
  {
   "cell_type": "code",
   "execution_count": null,
   "metadata": {},
   "outputs": [],
   "source": [
    "plt.rcParams['figure.figsize'] = (18, 7)\n",
    "\n",
    "plt.subplot(1, 2, 1)\n",
    "plt.hist(data['variance'], color = 'lightgreen')\n",
    "plt.title('Distribution of variance',fontsize = 20)\n",
    "plt.xlabel('Variance', fontsize = 15)\n",
    "plt.ylabel('Count', fontsize = 15)\n",
    "\n",
    "# visualizing the distribution of customers around the Region\n",
    "\n",
    "plt.subplot(1, 2, 2)\n",
    "plt.hist(data['skewness'], color = 'lightblue')\n",
    "plt.title('Distribution of skewness',fontsize = 20)\n",
    "plt.xlabel('Skewness', fontsize = 15)\n",
    "plt.ylabel('Count', fontsize = 15)\n",
    "\n",
    "plt.show()"
   ]
  },
  {
   "cell_type": "code",
   "execution_count": null,
   "metadata": {},
   "outputs": [],
   "source": [
    "plt.rcParams['figure.figsize'] = (18, 7)\n",
    "\n",
    "plt.subplot(1, 2, 1)\n",
    "plt.hist(data['curtosis'], color = 'lightgreen')\n",
    "plt.title('Distribution of curtosis',fontsize = 20)\n",
    "plt.xlabel('Curtosis', fontsize = 15)\n",
    "plt.ylabel('Count', fontsize = 15)\n",
    "\n",
    "# visualizing the distribution of customers around the Region\n",
    "\n",
    "plt.subplot(1, 2, 2)\n",
    "plt.hist(data['entropy'], color = 'lightblue')\n",
    "plt.title('Distribution of entropy',fontsize = 20)\n",
    "plt.xlabel('Entropy', fontsize = 15)\n",
    "plt.ylabel('Count', fontsize = 15)\n",
    "\n",
    "plt.show()"
   ]
  },
  {
   "cell_type": "code",
   "execution_count": null,
   "metadata": {},
   "outputs": [],
   "source": [
    "plt.rcParams['figure.figsize'] = (18, 15)\n",
    "\n",
    "plt.subplot(2, 2, 1)\n",
    "sns.boxenplot(data['class'], data['variance'], palette = 'rainbow')\n",
    "plt.title('Variance vs Class', fontsize = 20)\n",
    "plt.ylabel('Variance', fontsize = 15)\n",
    "plt.xlabel('Class', fontsize = 15)\n",
    "\n",
    "# product related duration vs revenue\n",
    "\n",
    "plt.subplot(2, 2, 2)\n",
    "sns.boxenplot(data['class'], data['skewness'], palette = 'pastel')\n",
    "plt.title('Skewness vs Class', fontsize = 20)\n",
    "plt.ylabel('Skewness', fontsize = 15)\n",
    "plt.xlabel('Class', fontsize = 15)\n",
    "\n",
    "# product related duration vs revenue\n",
    "\n",
    "plt.subplot(2, 2, 3)\n",
    "sns.boxenplot(data['class'], data['curtosis'], palette = 'dark')\n",
    "plt.title('Curtosis vs Class', fontsize = 20)\n",
    "plt.ylabel('Curtosis', fontsize = 15)\n",
    "plt.xlabel('Class', fontsize = 15)\n",
    "\n",
    "# exit rate vs revenue\n",
    "\n",
    "plt.subplot(2, 2, 4)\n",
    "sns.boxenplot(data['class'], data['entropy'], palette = 'spring')\n",
    "plt.title('Entropy vs Class', fontsize = 20)\n",
    "plt.ylabel('Entropy', fontsize = 15)\n",
    "plt.xlabel('Class', fontsize = 15)\n",
    "\n",
    "\n",
    "plt.show()\n"
   ]
  },
  {
   "cell_type": "code",
   "execution_count": null,
   "metadata": {},
   "outputs": [],
   "source": [
    "plt.rcParams['figure.figsize'] = (18, 7)\n",
    "\n",
    "plt.subplot(1, 2, 1)\n",
    "sns.stripplot(data['class'], data['variance'], palette = 'autumn')\n",
    "plt.title('Variance vs Class', fontsize = 20)\n",
    "plt.ylabel('Variance', fontsize = 15)\n",
    "plt.xlabel('Class', fontsize = 15)\n",
    "\n",
    "# bounce rates vs revenue\n",
    "plt.subplot(1, 2, 2)\n",
    "sns.stripplot(data['class'], data['skewness'], palette = 'magma')\n",
    "plt.title('Skewness vs Class', fontsize = 20)\n",
    "plt.ylabel('Skewness', fontsize = 15)\n",
    "plt.xlabel('Class', fontsize = 15)\n",
    "\n",
    "plt.show()"
   ]
  },
  {
   "cell_type": "code",
   "execution_count": null,
   "metadata": {},
   "outputs": [],
   "source": [
    "plt.rcParams['figure.figsize'] = (18, 7)\n",
    "\n",
    "plt.subplot(1, 2, 1)\n",
    "sns.stripplot(data['class'], data['curtosis'], palette = 'rainbow')\n",
    "plt.title('Curtosis vs Class', fontsize = 20)\n",
    "plt.ylabel('Curtosis', fontsize = 15)\n",
    "plt.xlabel('Class', fontsize = 15)\n",
    "\n",
    "# bounce rates vs revenue\n",
    "plt.subplot(1, 2, 2)\n",
    "sns.stripplot(data['class'], data['entropy'], palette = 'spring')\n",
    "plt.title('Entropy vs Class', fontsize = 20)\n",
    "plt.ylabel('Entropy', fontsize = 15)\n",
    "plt.xlabel('Class', fontsize = 15)\n",
    "\n",
    "plt.show()"
   ]
  },
  {
   "cell_type": "code",
   "execution_count": null,
   "metadata": {},
   "outputs": [],
   "source": [
    "sns.pairplot(data,hue='class')"
   ]
  },
  {
   "cell_type": "code",
   "execution_count": null,
   "metadata": {},
   "outputs": [],
   "source": [
    "x = data.iloc[:,:4].values"
   ]
  },
  {
   "cell_type": "code",
   "execution_count": null,
   "metadata": {},
   "outputs": [],
   "source": [
    "y = data.iloc[:,4].values"
   ]
  },
  {
   "cell_type": "code",
   "execution_count": null,
   "metadata": {},
   "outputs": [],
   "source": [
    "class Perceptron(object):\n",
    "    \n",
    "    def __init__(self, learning_rate, iters):\n",
    "        self.learning_rate = learning_rate \n",
    "        self.iters = iters \n",
    "    def fit(self, xtrain, ytrain):\n",
    "       \n",
    "        self.weights = np.zeros(1 + xtrain.shape[1])\n",
    "        for _ in range(self.iters):\n",
    "            for ip, target in zip(xtrain, ytrain):\n",
    "                error=target-self.predict(ip)\n",
    "                if error!=0:\n",
    "                    update = self.learning_rate * error\n",
    "                    self.weights[1:] += update * ip\n",
    "                    self.weights[0] += update\n",
    "          \n",
    "        return self\n",
    "    def net_input(self, xtrain):\n",
    "        return np.dot(xtrain, self.weights[1:]) + self.weights[0]\n",
    "    def predict(self, xtrain):\n",
    "        return np.where(self.net_input(xtrain) >= 0, 1, -1)\n"
   ]
  },
  {
   "cell_type": "code",
   "execution_count": null,
   "metadata": {},
   "outputs": [],
   "source": [
    "xtrain,xtest,ytrain,ytest = train_test_split(x,y,test_size = 0.2,random_state=42)"
   ]
  },
  {
   "cell_type": "code",
   "execution_count": null,
   "metadata": {},
   "outputs": [],
   "source": [
    "for l in [0.01,0.1,0.5,1]:\n",
    "    for iters in [10,50,100,1000]:\n",
    "        perceptron = Perceptron(learning_rate=l, iters=iters)\n",
    "        perceptron.fit(xtrain,ytrain)\n",
    "        print('Learning rate :',l,'iterations :',iters)\n",
    "        print('Score on training data is :',accuracy_score(ytrain,perceptron.predict(xtrain)))\n",
    "        print('Accuracy score on test data is :',accuracy_score(ytest,perceptron.predict(xtest)))"
   ]
  }
 ],
 "metadata": {
  "kernelspec": {
   "display_name": "Python 3",
   "language": "python",
   "name": "python3"
  },
  "language_info": {
   "codemirror_mode": {
    "name": "ipython",
    "version": 3
   },
   "file_extension": ".py",
   "mimetype": "text/x-python",
   "name": "python",
   "nbconvert_exporter": "python",
   "pygments_lexer": "ipython3",
   "version": "3.7.6"
  }
 },
 "nbformat": 4,
 "nbformat_minor": 4
}
