{
 "cells": [
  {
   "cell_type": "code",
   "execution_count": null,
   "metadata": {},
   "outputs": [],
   "source": [
    "import pandas as pd\n",
    "import numpy as np\n",
    "from sklearn.metrics import accuracy_score\n",
    "from sklearn.model_selection import train_test_split\n",
    "import plotly as py\n",
    "import plotly.graph_objs as go\n",
    "import matplotlib.pyplot as plt\n",
    "import seaborn as sns"
   ]
  },
  {
   "cell_type": "code",
   "execution_count": null,
   "metadata": {},
   "outputs": [],
   "source": [
    "data = pd.read_csv('BankNoteAuthentication.csv')"
   ]
  },
  {
   "cell_type": "code",
   "execution_count": null,
   "metadata": {},
   "outputs": [],
   "source": [
    "data.head()"
   ]
  },
  {
   "cell_type": "code",
   "execution_count": null,
   "metadata": {},
   "outputs": [],
   "source": [
    "data.describe()"
   ]
  },
  {
   "cell_type": "code",
   "execution_count": null,
   "metadata": {},
   "outputs": [],
   "source": [
    "data.info()"
   ]
  },
  {
   "cell_type": "code",
   "execution_count": null,
   "metadata": {},
   "outputs": [],
   "source": [
    "data.corr(method='spearman').style.background_gradient(cmap='coolwarm')"
   ]
  },
  {
   "cell_type": "code",
   "execution_count": null,
   "metadata": {},
   "outputs": [],
   "source": [
    "plt.rcParams['figure.figsize'] = (18, 7)\n",
    "sns.countplot(x='class',data = data)\n",
    "plt.title('Count of Class',fontsize = 20)\n",
    "plt.xlabel('Class', fontsize = 15)\n",
    "plt.ylabel('Count', fontsize = 15)\n",
    "plt.show()"
   ]
  },
  {
   "cell_type": "code",
   "execution_count": null,
   "metadata": {},
   "outputs": [],
   "source": [
    "plt.rcParams['figure.figsize'] = (18, 7)\n",
    "\n",
    "plt.subplot(1, 2, 1)\n",
    "plt.hist(data['variance'], color = 'lightgreen')\n",
    "plt.title('Distribution of variance',fontsize = 20)\n",
    "plt.xlabel('Variance', fontsize = 15)\n",
    "plt.ylabel('Count', fontsize = 15)\n",
    "\n",
    "# visualizing the distribution of customers around the Region\n",
    "\n",
    "plt.subplot(1, 2, 2)\n",
    "plt.hist(data['skewness'], color = 'lightblue')\n",
    "plt.title('Distribution of skewness',fontsize = 20)\n",
    "plt.xlabel('Skewness', fontsize = 15)\n",
    "plt.ylabel('Count', fontsize = 15)\n",
    "\n",
    "plt.show()"
   ]
  },
  {
   "cell_type": "code",
   "execution_count": null,
   "metadata": {},
   "outputs": [],
   "source": [
    "plt.rcParams['figure.figsize'] = (18, 7)\n",
    "\n",
    "plt.subplot(1, 2, 1)\n",
    "plt.hist(data['curtosis'], color = 'lightgreen')\n",
    "plt.title('Distribution of curtosis',fontsize = 20)\n",
    "plt.xlabel('Curtosis', fontsize = 15)\n",
    "plt.ylabel('Count', fontsize = 15)\n",
    "\n",
    "# visualizing the distribution of customers around the Region\n",
    "\n",
    "plt.subplot(1, 2, 2)\n",
    "plt.hist(data['entropy'], color = 'lightblue')\n",
    "plt.title('Distribution of entropy',fontsize = 20)\n",
    "plt.xlabel('Entropy', fontsize = 15)\n",
    "plt.ylabel('Count', fontsize = 15)\n",
    "\n",
    "plt.show()"
   ]
  },
  {
   "cell_type": "code",
   "execution_count": null,
   "metadata": {},
   "outputs": [],
   "source": [
    "plt.rcParams['figure.figsize'] = (18, 15)\n",
    "\n",
    "plt.subplot(2, 2, 1)\n",
    "sns.boxenplot(data['class'], data['variance'], palette = 'rainbow')\n",
    "plt.title('Variance vs Class', fontsize = 20)\n",
    "plt.ylabel('Variance', fontsize = 15)\n",
    "plt.xlabel('Class', fontsize = 15)\n",
    "\n",
    "# product related duration vs revenue\n",
    "\n",
    "plt.subplot(2, 2, 2)\n",
    "sns.boxenplot(data['class'], data['skewness'], palette = 'pastel')\n",
    "plt.title('Skewness vs Class', fontsize = 20)\n",
    "plt.ylabel('Skewness', fontsize = 15)\n",
    "plt.xlabel('Class', fontsize = 15)\n",
    "\n",
    "# product related duration vs revenue\n",
    "\n",
    "plt.subplot(2, 2, 3)\n",
    "sns.boxenplot(data['class'], data['curtosis'], palette = 'dark')\n",
    "plt.title('Curtosis vs Class', fontsize = 20)\n",
    "plt.ylabel('Curtosis', fontsize = 15)\n",
    "plt.xlabel('Class', fontsize = 15)\n",
    "\n",
    "# exit rate vs revenue\n",
    "\n",
    "plt.subplot(2, 2, 4)\n",
    "sns.boxenplot(data['class'], data['entropy'], palette = 'spring')\n",
    "plt.title('Entropy vs Class', fontsize = 20)\n",
    "plt.ylabel('Entropy', fontsize = 15)\n",
    "plt.xlabel('Class', fontsize = 15)\n",
    "\n",
    "\n",
    "plt.show()\n"
   ]
  },
  {
   "cell_type": "code",
   "execution_count": null,
   "metadata": {},
   "outputs": [],
   "source": [
    "plt.rcParams['figure.figsize'] = (18, 7)\n",
    "\n",
    "plt.subplot(1, 2, 1)\n",
    "sns.stripplot(data['class'], data['variance'], palette = 'autumn')\n",
    "plt.title('Variance vs Class', fontsize = 20)\n",
    "plt.ylabel('Variance', fontsize = 15)\n",
    "plt.xlabel('Class', fontsize = 15)\n",
    "\n",
    "# bounce rates vs revenue\n",
    "plt.subplot(1, 2, 2)\n",
    "sns.stripplot(data['class'], data['skewness'], palette = 'magma')\n",
    "plt.title('Skewness vs Class', fontsize = 20)\n",
    "plt.ylabel('Skewness', fontsize = 15)\n",
    "plt.xlabel('Class', fontsize = 15)\n",
    "\n",
    "plt.show()"
   ]
  },
  {
   "cell_type": "code",
   "execution_count": null,
   "metadata": {},
   "outputs": [],
   "source": [
    "plt.rcParams['figure.figsize'] = (18, 7)\n",
    "\n",
    "plt.subplot(1, 2, 1)\n",
    "sns.stripplot(data['class'], data['curtosis'], palette = 'rainbow')\n",
    "plt.title('Curtosis vs Class', fontsize = 20)\n",
    "plt.ylabel('Curtosis', fontsize = 15)\n",
    "plt.xlabel('Class', fontsize = 15)\n",
    "\n",
    "# bounce rates vs revenue\n",
    "plt.subplot(1, 2, 2)\n",
    "sns.stripplot(data['class'], data['entropy'], palette = 'spring')\n",
    "plt.title('Entropy vs Class', fontsize = 20)\n",
    "plt.ylabel('Entropy', fontsize = 15)\n",
    "plt.xlabel('Class', fontsize = 15)\n",
    "\n",
    "plt.show()"
   ]
  },
  {
   "cell_type": "code",
   "execution_count": null,
   "metadata": {},
   "outputs": [],
   "source": [
    "sns.pairplot(data,hue='class')"
   ]
  },
  {
   "cell_type": "code",
   "execution_count": null,
   "metadata": {},
   "outputs": [],
   "source": [
    "x = data.iloc[:,:4].values"
   ]
  },
  {
   "cell_type": "code",
   "execution_count": null,
   "metadata": {},
   "outputs": [],
   "source": [
    "y = data.iloc[:,4].values"
   ]
  },
  {
   "cell_type": "code",
   "execution_count": null,
   "metadata": {},
   "outputs": [],
   "source": [
    "xtrain,xtest,ytrain,ytest = train_test_split(x,y,test_size = 0.2,random_state=42)\n",
    "learning_rate = 0.5\n",
    "epochs = 1\n",
    "d = [0,0]\n",
    "w = np.random.rand(4,2)\n",
    "pred = np.zeros((xtrain.shape[0],1))"
   ]
  },
  {
   "cell_type": "code",
   "execution_count": null,
   "metadata": {},
   "outputs": [],
   "source": [
    "print('epoch :',epochs,'learning rate :',learning_rate)\n",
    "while(epochs<=5):\n",
    "    for i in range(xtrain.shape[0]):\n",
    "        for j in range(2):\n",
    "            dist = 0\n",
    "            for k in range(xtrain.shape[1]):\n",
    "                dist = dist + ((w[k,j]-xtrain[i,k])**2)\n",
    "            d[j] = dist\n",
    "        if(d[0]<d[1]):\n",
    "            j = 0\n",
    "        else:\n",
    "            j = 1\n",
    "        if(epochs == 5):\n",
    "            pred[i] = j\n",
    "        for m in range(4):\n",
    "            w[m,j]=w[m,j] + (learning_rate *(xtrain[i,m]-w[m,j]))\n",
    "    epochs = epochs+1\n",
    "    learning_rate = learning_rate*0.5\n",
    "    print('Epoch :',epochs,'learning rate :',learning_rate)..,m"
   ]
  },
  {
   "cell_type": "code",
   "execution_count": null,
   "metadata": {},
   "outputs": [],
   "source": [
    "positive = 0\n",
    "negative = 0\n",
    "for count in range(xtrain.shape[0]):\n",
    "    if(pred[count] == ytrain[count]):\n",
    "        positive = positive +1\n",
    "    else:\n",
    "        negative = negative +1"
   ]
  },
  {
   "cell_type": "code",
   "execution_count": null,
   "metadata": {},
   "outputs": [],
   "source": [
    "print(positive)\n",
    "print(negative)"
   ]
  },
  {
   "cell_type": "code",
   "execution_count": null,
   "metadata": {},
   "outputs": [],
   "source": [
    "print('Accuracy score in training data is',accuracy_score(ytrain,pred))"
   ]
  },
  {
   "cell_type": "code",
   "execution_count": null,
   "metadata": {},
   "outputs": [],
   "source": [
    "d1 = [0,0]\n",
    "pred1 = np.zeros((xtest.shape[0],1))\n",
    "for i1 in range(xtest.shape[0]):\n",
    "    for j1 in range(2):\n",
    "        dist1 = 0\n",
    "        for k1 in range(xtest.shape[1]):\n",
    "            dist1 = dist1 + ((w[k1,j1]-xtest[i1,k1])**2)\n",
    "        d1[j1] = dist1\n",
    "    if(d1[0]<d1[1]):\n",
    "        j1 = 0\n",
    "    else:\n",
    "        j1 = 1\n",
    "    pred1[i1] = j1 "
   ]
  },
  {
   "cell_type": "code",
   "execution_count": null,
   "metadata": {},
   "outputs": [],
   "source": [
    "print('Accuracy score in test data is',accuracy_score(ytest,pred1))"
   ]
  }
 ],
 "metadata": {
  "kernelspec": {
   "display_name": "Python 3",
   "language": "python",
   "name": "python3"
  },
  "language_info": {
   "codemirror_mode": {
    "name": "ipython",
    "version": 3
   },
   "file_extension": ".py",
   "mimetype": "text/x-python",
   "name": "python",
   "nbconvert_exporter": "python",
   "pygments_lexer": "ipython3",
   "version": "3.7.6"
  }
 },
 "nbformat": 4,
 "nbformat_minor": 4
}
